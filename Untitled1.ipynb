{
 "cells": [
  {
   "cell_type": "code",
   "execution_count": 110,
   "id": "f93b17d6-73b0-48f9-842e-6d8791f8a3c0",
   "metadata": {},
   "outputs": [],
   "source": [
    "import yfinance as yf"
   ]
  },
  {
   "cell_type": "code",
   "execution_count": 111,
   "id": "94dc547f-4939-4e9f-b5cd-e23892807479",
   "metadata": {},
   "outputs": [
    {
     "name": "stdout",
     "output_type": "stream",
     "text": [
      "Requirement already satisfied: yfinance in c:\\users\\agnes\\anaconda3\\lib\\site-packages (0.2.41)\n",
      "Requirement already satisfied: pandas>=1.3.0 in c:\\users\\agnes\\anaconda3\\lib\\site-packages (from yfinance) (2.2.2)\n",
      "Requirement already satisfied: numpy>=1.16.5 in c:\\users\\agnes\\anaconda3\\lib\\site-packages (from yfinance) (1.26.4)\n",
      "Requirement already satisfied: requests>=2.31 in c:\\users\\agnes\\anaconda3\\lib\\site-packages (from yfinance) (2.32.2)\n",
      "Requirement already satisfied: multitasking>=0.0.7 in c:\\users\\agnes\\anaconda3\\lib\\site-packages (from yfinance) (0.0.11)\n",
      "Requirement already satisfied: lxml>=4.9.1 in c:\\users\\agnes\\anaconda3\\lib\\site-packages (from yfinance) (5.2.1)\n",
      "Requirement already satisfied: platformdirs>=2.0.0 in c:\\users\\agnes\\anaconda3\\lib\\site-packages (from yfinance) (3.10.0)\n",
      "Requirement already satisfied: pytz>=2022.5 in c:\\users\\agnes\\anaconda3\\lib\\site-packages (from yfinance) (2024.1)\n",
      "Requirement already satisfied: frozendict>=2.3.4 in c:\\users\\agnes\\anaconda3\\lib\\site-packages (from yfinance) (2.4.2)\n",
      "Requirement already satisfied: peewee>=3.16.2 in c:\\users\\agnes\\anaconda3\\lib\\site-packages (from yfinance) (3.17.6)\n",
      "Requirement already satisfied: beautifulsoup4>=4.11.1 in c:\\users\\agnes\\anaconda3\\lib\\site-packages (from yfinance) (4.12.3)\n",
      "Requirement already satisfied: html5lib>=1.1 in c:\\users\\agnes\\anaconda3\\lib\\site-packages (from yfinance) (1.1)\n",
      "Requirement already satisfied: soupsieve>1.2 in c:\\users\\agnes\\anaconda3\\lib\\site-packages (from beautifulsoup4>=4.11.1->yfinance) (2.5)\n",
      "Requirement already satisfied: six>=1.9 in c:\\users\\agnes\\anaconda3\\lib\\site-packages (from html5lib>=1.1->yfinance) (1.16.0)\n",
      "Requirement already satisfied: webencodings in c:\\users\\agnes\\anaconda3\\lib\\site-packages (from html5lib>=1.1->yfinance) (0.5.1)\n",
      "Requirement already satisfied: python-dateutil>=2.8.2 in c:\\users\\agnes\\anaconda3\\lib\\site-packages (from pandas>=1.3.0->yfinance) (2.9.0.post0)\n",
      "Requirement already satisfied: tzdata>=2022.7 in c:\\users\\agnes\\anaconda3\\lib\\site-packages (from pandas>=1.3.0->yfinance) (2023.3)\n",
      "Requirement already satisfied: charset-normalizer<4,>=2 in c:\\users\\agnes\\anaconda3\\lib\\site-packages (from requests>=2.31->yfinance) (2.0.4)\n",
      "Requirement already satisfied: idna<4,>=2.5 in c:\\users\\agnes\\anaconda3\\lib\\site-packages (from requests>=2.31->yfinance) (3.7)\n",
      "Requirement already satisfied: urllib3<3,>=1.21.1 in c:\\users\\agnes\\anaconda3\\lib\\site-packages (from requests>=2.31->yfinance) (2.2.2)\n",
      "Requirement already satisfied: certifi>=2017.4.17 in c:\\users\\agnes\\anaconda3\\lib\\site-packages (from requests>=2.31->yfinance) (2024.7.4)\n"
     ]
    }
   ],
   "source": [
    "!pip install yfinance\n"
   ]
  },
  {
   "cell_type": "code",
   "execution_count": 112,
   "id": "fefd05b6-e48a-41c8-b4c6-876aeddf7baa",
   "metadata": {},
   "outputs": [],
   "source": [
    "import yfinance as yf\n"
   ]
  },
  {
   "cell_type": "code",
   "execution_count": 113,
   "id": "331614d5-e31a-4b14-95b2-40a95f668e18",
   "metadata": {},
   "outputs": [],
   "source": [
    "import numpy as np\n",
    "import pandas as pd\n",
    "import matplotlib.pyplot as plt\n"
   ]
  },
  {
   "cell_type": "code",
   "execution_count": 114,
   "id": "8abad9c4-8b63-4455-9f59-c47f17aca9ad",
   "metadata": {},
   "outputs": [
    {
     "name": "stderr",
     "output_type": "stream",
     "text": [
      "[*********************100%%**********************]  1 of 1 completed\n"
     ]
    }
   ],
   "source": [
    "start = '2012-01-01'\n",
    "end = '2022-12-21'\n",
    "stock = 'GOOG'\n",
    "\n",
    "data = yf.download(stock,start,end)"
   ]
  },
  {
   "cell_type": "code",
   "execution_count": 115,
   "id": "2037c0ea-d42f-4898-aff1-74f2e0960136",
   "metadata": {},
   "outputs": [],
   "source": [
    "data.reset_index(inplace=True)"
   ]
  },
  {
   "cell_type": "code",
   "execution_count": 116,
   "id": "142c4b21-800e-4cc5-a32b-543cf2b1d74c",
   "metadata": {},
   "outputs": [
    {
     "data": {
      "text/html": [
       "<div>\n",
       "<style scoped>\n",
       "    .dataframe tbody tr th:only-of-type {\n",
       "        vertical-align: middle;\n",
       "    }\n",
       "\n",
       "    .dataframe tbody tr th {\n",
       "        vertical-align: top;\n",
       "    }\n",
       "\n",
       "    .dataframe thead th {\n",
       "        text-align: right;\n",
       "    }\n",
       "</style>\n",
       "<table border=\"1\" class=\"dataframe\">\n",
       "  <thead>\n",
       "    <tr style=\"text-align: right;\">\n",
       "      <th></th>\n",
       "      <th>Date</th>\n",
       "      <th>Open</th>\n",
       "      <th>High</th>\n",
       "      <th>Low</th>\n",
       "      <th>Close</th>\n",
       "      <th>Adj Close</th>\n",
       "      <th>Volume</th>\n",
       "    </tr>\n",
       "  </thead>\n",
       "  <tbody>\n",
       "    <tr>\n",
       "      <th>0</th>\n",
       "      <td>2012-01-03</td>\n",
       "      <td>16.262545</td>\n",
       "      <td>16.641375</td>\n",
       "      <td>16.248346</td>\n",
       "      <td>16.573130</td>\n",
       "      <td>16.554291</td>\n",
       "      <td>147611217</td>\n",
       "    </tr>\n",
       "    <tr>\n",
       "      <th>1</th>\n",
       "      <td>2012-01-04</td>\n",
       "      <td>16.563665</td>\n",
       "      <td>16.693678</td>\n",
       "      <td>16.453827</td>\n",
       "      <td>16.644611</td>\n",
       "      <td>16.625692</td>\n",
       "      <td>114989399</td>\n",
       "    </tr>\n",
       "    <tr>\n",
       "      <th>2</th>\n",
       "      <td>2012-01-05</td>\n",
       "      <td>16.491436</td>\n",
       "      <td>16.537264</td>\n",
       "      <td>16.344486</td>\n",
       "      <td>16.413727</td>\n",
       "      <td>16.395069</td>\n",
       "      <td>131808205</td>\n",
       "    </tr>\n",
       "    <tr>\n",
       "      <th>3</th>\n",
       "      <td>2012-01-06</td>\n",
       "      <td>16.417213</td>\n",
       "      <td>16.438385</td>\n",
       "      <td>16.184088</td>\n",
       "      <td>16.189817</td>\n",
       "      <td>16.171415</td>\n",
       "      <td>108119746</td>\n",
       "    </tr>\n",
       "    <tr>\n",
       "      <th>4</th>\n",
       "      <td>2012-01-09</td>\n",
       "      <td>16.102144</td>\n",
       "      <td>16.114599</td>\n",
       "      <td>15.472754</td>\n",
       "      <td>15.503389</td>\n",
       "      <td>15.485767</td>\n",
       "      <td>233776981</td>\n",
       "    </tr>\n",
       "    <tr>\n",
       "      <th>...</th>\n",
       "      <td>...</td>\n",
       "      <td>...</td>\n",
       "      <td>...</td>\n",
       "      <td>...</td>\n",
       "      <td>...</td>\n",
       "      <td>...</td>\n",
       "      <td>...</td>\n",
       "    </tr>\n",
       "    <tr>\n",
       "      <th>2756</th>\n",
       "      <td>2022-12-14</td>\n",
       "      <td>95.540001</td>\n",
       "      <td>97.220001</td>\n",
       "      <td>93.940002</td>\n",
       "      <td>95.309998</td>\n",
       "      <td>95.201660</td>\n",
       "      <td>26452900</td>\n",
       "    </tr>\n",
       "    <tr>\n",
       "      <th>2757</th>\n",
       "      <td>2022-12-15</td>\n",
       "      <td>93.540001</td>\n",
       "      <td>94.029999</td>\n",
       "      <td>90.430000</td>\n",
       "      <td>91.199997</td>\n",
       "      <td>91.096336</td>\n",
       "      <td>28298800</td>\n",
       "    </tr>\n",
       "    <tr>\n",
       "      <th>2758</th>\n",
       "      <td>2022-12-16</td>\n",
       "      <td>91.199997</td>\n",
       "      <td>91.750000</td>\n",
       "      <td>90.010002</td>\n",
       "      <td>90.860001</td>\n",
       "      <td>90.756721</td>\n",
       "      <td>48485500</td>\n",
       "    </tr>\n",
       "    <tr>\n",
       "      <th>2759</th>\n",
       "      <td>2022-12-19</td>\n",
       "      <td>90.879997</td>\n",
       "      <td>91.199997</td>\n",
       "      <td>88.925003</td>\n",
       "      <td>89.150002</td>\n",
       "      <td>89.048668</td>\n",
       "      <td>23020500</td>\n",
       "    </tr>\n",
       "    <tr>\n",
       "      <th>2760</th>\n",
       "      <td>2022-12-20</td>\n",
       "      <td>88.730003</td>\n",
       "      <td>89.779999</td>\n",
       "      <td>88.040001</td>\n",
       "      <td>89.629997</td>\n",
       "      <td>89.528122</td>\n",
       "      <td>21976800</td>\n",
       "    </tr>\n",
       "  </tbody>\n",
       "</table>\n",
       "<p>2761 rows × 7 columns</p>\n",
       "</div>"
      ],
      "text/plain": [
       "           Date       Open       High        Low      Close  Adj Close  \\\n",
       "0    2012-01-03  16.262545  16.641375  16.248346  16.573130  16.554291   \n",
       "1    2012-01-04  16.563665  16.693678  16.453827  16.644611  16.625692   \n",
       "2    2012-01-05  16.491436  16.537264  16.344486  16.413727  16.395069   \n",
       "3    2012-01-06  16.417213  16.438385  16.184088  16.189817  16.171415   \n",
       "4    2012-01-09  16.102144  16.114599  15.472754  15.503389  15.485767   \n",
       "...         ...        ...        ...        ...        ...        ...   \n",
       "2756 2022-12-14  95.540001  97.220001  93.940002  95.309998  95.201660   \n",
       "2757 2022-12-15  93.540001  94.029999  90.430000  91.199997  91.096336   \n",
       "2758 2022-12-16  91.199997  91.750000  90.010002  90.860001  90.756721   \n",
       "2759 2022-12-19  90.879997  91.199997  88.925003  89.150002  89.048668   \n",
       "2760 2022-12-20  88.730003  89.779999  88.040001  89.629997  89.528122   \n",
       "\n",
       "         Volume  \n",
       "0     147611217  \n",
       "1     114989399  \n",
       "2     131808205  \n",
       "3     108119746  \n",
       "4     233776981  \n",
       "...         ...  \n",
       "2756   26452900  \n",
       "2757   28298800  \n",
       "2758   48485500  \n",
       "2759   23020500  \n",
       "2760   21976800  \n",
       "\n",
       "[2761 rows x 7 columns]"
      ]
     },
     "execution_count": 116,
     "metadata": {},
     "output_type": "execute_result"
    }
   ],
   "source": [
    "data"
   ]
  },
  {
   "cell_type": "code",
   "execution_count": 117,
   "id": "fbdbe793-069a-42c1-beed-7c0497ec538e",
   "metadata": {},
   "outputs": [],
   "source": [
    "ma_100_days = data.Close.rolling(100).mean()"
   ]
  },
  {
   "cell_type": "code",
   "execution_count": 118,
   "id": "dfcd1fb9-196c-4ce2-add4-e4f63ca1d612",
   "metadata": {},
   "outputs": [
    {
     "data": {
      "image/png": "[encoded data removed]",
      "text/plain": [
       "<Figure size 800x600 with 1 Axes>"
      ]
     },
     "metadata": {},
     "output_type": "display_data"
    }
   ],
   "source": [
    "plt.figure(figsize=(8,6))\n",
    "plt.plot(ma_100_days, 'r')\n",
    "plt.plot(data.Close, 'g')\n",
    "plt.show()"
   ]
  },
  {
   "cell_type": "code",
   "execution_count": 119,
   "id": "48cdc8bd-aa23-448b-a9a2-1ba897e702cf",
   "metadata": {},
   "outputs": [],
   "source": [
    "ma_200_days = data.Close.rolling(200).mean()\n"
   ]
  },
  {
   "cell_type": "code",
   "execution_count": null,
   "id": "c96d0fa6-0009-40b5-a263-30eab9b73575",
   "metadata": {},
   "outputs": [],
   "source": []
  },
  {
   "cell_type": "code",
   "execution_count": 120,
   "id": "57b781fe-6c7b-492a-8fa2-aaba38974d66",
   "metadata": {},
   "outputs": [
    {
     "data": {
      "image/png": "[encoded data removed]",
      "text/plain": [
       "<Figure size 800x600 with 1 Axes>"
      ]
     },
     "metadata": {},
     "output_type": "display_data"
    }
   ],
   "source": [
    "plt.figure(figsize=(8,6))\n",
    "plt.plot(ma_100_days, 'r')\n",
    "plt.plot(ma_200_days, 'b')\n",
    "plt.plot(data.Close,'g')\n",
    "plt.show()\n"
   ]
  },
  {
   "cell_type": "code",
   "execution_count": 121,
   "id": "8fbfdc44-a44d-490d-a2c1-60c918af64b8",
   "metadata": {},
   "outputs": [],
   "source": [
    "data.dropna(inplace=True)"
   ]
  },
  {
   "cell_type": "code",
   "execution_count": 122,
   "id": "28e04eb9-b819-4a45-a6b9-b7f1192b733d",
   "metadata": {},
   "outputs": [],
   "source": [
    "data_train = pd.DataFrame(data.Close[0: int(len(data)*0.80)])\n",
    "data_test = pd.DataFrame(data.Close[int(len(data)*0.80):len(data)])"
   ]
  },
  {
   "cell_type": "code",
   "execution_count": 123,
   "id": "912464e7-04c0-4c04-b660-1f82cff3da7c",
   "metadata": {},
   "outputs": [
    {
     "data": {
      "text/plain": [
       "2208"
      ]
     },
     "execution_count": 123,
     "metadata": {},
     "output_type": "execute_result"
    }
   ],
   "source": [
    "data_train.shape[0]"
   ]
  },
  {
   "cell_type": "code",
   "execution_count": 124,
   "id": "a39debd3-6b49-411d-9a9c-fcf553b34e06",
   "metadata": {},
   "outputs": [
    {
     "data": {
      "text/plain": [
       "553"
      ]
     },
     "execution_count": 124,
     "metadata": {},
     "output_type": "execute_result"
    }
   ],
   "source": [
    "data_test.shape[0]"
   ]
  },
  {
   "cell_type": "code",
   "execution_count": 125,
   "id": "3deafad4-58fa-4ec2-bdc7-25434c7455b3",
   "metadata": {},
   "outputs": [],
   "source": [
    " from sklearn.preprocessing import MinMaxScaler\n",
    "scaler = MinMaxScaler(feature_range = (0,1)) "
   ]
  },
  {
   "cell_type": "code",
   "execution_count": 126,
   "id": "3dd9818b-c62b-435a-aa13-52eefc5cfabb",
   "metadata": {},
   "outputs": [],
   "source": [
    "data_train_scale = scaler.fit_transform(data_train)"
   ]
  },
  {
   "cell_type": "code",
   "execution_count": 127,
   "id": "915b1d91-07f2-4b39-ad26-48bb297f4732",
   "metadata": {},
   "outputs": [],
   "source": [
    "x=[]\n",
    "y=[]\n",
    "\n",
    "for i in range(100, data_train_scale.shape[0]):\n",
    "    x.append(data_train_scale[i-100:i])\n",
    "    y.append(data_train_scale[i,0])\n",
    "    "
   ]
  },
  {
   "cell_type": "code",
   "execution_count": 128,
   "id": "9e02a461-2bb4-406f-b44e-f3c7a8e2a683",
   "metadata": {},
   "outputs": [],
   "source": [
    "x, y = np.array(x), np.array(y)"
   ]
  },
  {
   "cell_type": "code",
   "execution_count": 129,
   "id": "7ee5b753-add1-411f-ba7e-ccb545ace95c",
   "metadata": {},
   "outputs": [],
   "source": [
    "from keras.layers import Dense, Dropout, LSTM\n",
    "from keras.models import Sequential"
   ]
  },
  {
   "cell_type": "code",
   "execution_count": null,
   "id": "254f6009-4a9b-4391-9bf4-6a7bf089b9ef",
   "metadata": {},
   "outputs": [],
   "source": []
  },
  {
   "cell_type": "code",
   "execution_count": 130,
   "id": "77426ad2-9c55-4c42-9e5c-fae5ece60553",
   "metadata": {},
   "outputs": [],
   "source": [
    "from keras.layers import Dense, Dropout, LSTM\n",
    "from keras.models import Sequential\n"
   ]
  },
  {
   "cell_type": "code",
   "execution_count": 131,
   "id": "f3bcd503-89c8-4f9b-94b5-fb00f62fb6c8",
   "metadata": {},
   "outputs": [
    {
     "name": "stdout",
     "output_type": "stream",
     "text": [
      "Requirement already satisfied: tensorflow in c:\\users\\agnes\\anaconda3\\lib\\site-packages (2.17.0)\n",
      "Requirement already satisfied: tensorflow-intel==2.17.0 in c:\\users\\agnes\\anaconda3\\lib\\site-packages (from tensorflow) (2.17.0)\n",
      "Requirement already satisfied: absl-py>=1.0.0 in c:\\users\\agnes\\anaconda3\\lib\\site-packages (from tensorflow-intel==2.17.0->tensorflow) (2.1.0)\n",
      "Requirement already satisfied: astunparse>=1.6.0 in c:\\users\\agnes\\anaconda3\\lib\\site-packages (from tensorflow-intel==2.17.0->tensorflow) (1.6.3)\n",
      "Requirement already satisfied: flatbuffers>=24.3.25 in c:\\users\\agnes\\anaconda3\\lib\\site-packages (from tensorflow-intel==2.17.0->tensorflow) (24.3.25)\n",
      "Requirement already satisfied: gast!=0.5.0,!=0.5.1,!=0.5.2,>=0.2.1 in c:\\users\\agnes\\anaconda3\\lib\\site-packages (from tensorflow-intel==2.17.0->tensorflow) (0.6.0)\n",
      "Requirement already satisfied: google-pasta>=0.1.1 in c:\\users\\agnes\\anaconda3\\lib\\site-packages (from tensorflow-intel==2.17.0->tensorflow) (0.2.0)\n",
      "Requirement already satisfied: h5py>=3.10.0 in c:\\users\\agnes\\anaconda3\\lib\\site-packages (from tensorflow-intel==2.17.0->tensorflow) (3.11.0)\n",
      "Requirement already satisfied: libclang>=13.0.0 in c:\\users\\agnes\\anaconda3\\lib\\site-packages (from tensorflow-intel==2.17.0->tensorflow) (18.1.1)\n",
      "Requirement already satisfied: ml-dtypes<0.5.0,>=0.3.1 in c:\\users\\agnes\\anaconda3\\lib\\site-packages (from tensorflow-intel==2.17.0->tensorflow) (0.4.0)\n",
      "Requirement already satisfied: opt-einsum>=2.3.2 in c:\\users\\agnes\\anaconda3\\lib\\site-packages (from tensorflow-intel==2.17.0->tensorflow) (3.3.0)\n",
      "Requirement already satisfied: packaging in c:\\users\\agnes\\anaconda3\\lib\\site-packages (from tensorflow-intel==2.17.0->tensorflow) (23.2)\n",
      "Requirement already satisfied: protobuf!=4.21.0,!=4.21.1,!=4.21.2,!=4.21.3,!=4.21.4,!=4.21.5,<5.0.0dev,>=3.20.3 in c:\\users\\agnes\\anaconda3\\lib\\site-packages (from tensorflow-intel==2.17.0->tensorflow) (3.20.3)\n",
      "Requirement already satisfied: requests<3,>=2.21.0 in c:\\users\\agnes\\anaconda3\\lib\\site-packages (from tensorflow-intel==2.17.0->tensorflow) (2.32.2)\n",
      "Requirement already satisfied: setuptools in c:\\users\\agnes\\anaconda3\\lib\\site-packages (from tensorflow-intel==2.17.0->tensorflow) (69.5.1)\n",
      "Requirement already satisfied: six>=1.12.0 in c:\\users\\agnes\\anaconda3\\lib\\site-packages (from tensorflow-intel==2.17.0->tensorflow) (1.16.0)\n",
      "Requirement already satisfied: termcolor>=1.1.0 in c:\\users\\agnes\\anaconda3\\lib\\site-packages (from tensorflow-intel==2.17.0->tensorflow) (2.4.0)\n",
      "Requirement already satisfied: typing-extensions>=3.6.6 in c:\\users\\agnes\\anaconda3\\lib\\site-packages (from tensorflow-intel==2.17.0->tensorflow) (4.11.0)\n",
      "Requirement already satisfied: wrapt>=1.11.0 in c:\\users\\agnes\\anaconda3\\lib\\site-packages (from tensorflow-intel==2.17.0->tensorflow) (1.14.1)\n",
      "Requirement already satisfied: grpcio<2.0,>=1.24.3 in c:\\users\\agnes\\anaconda3\\lib\\site-packages (from tensorflow-intel==2.17.0->tensorflow) (1.65.4)\n",
      "Requirement already satisfied: tensorboard<2.18,>=2.17 in c:\\users\\agnes\\anaconda3\\lib\\site-packages (from tensorflow-intel==2.17.0->tensorflow) (2.17.0)\n",
      "Requirement already satisfied: keras>=3.2.0 in c:\\users\\agnes\\anaconda3\\lib\\site-packages (from tensorflow-intel==2.17.0->tensorflow) (3.4.1)\n",
      "Requirement already satisfied: numpy<2.0.0,>=1.26.0 in c:\\users\\agnes\\anaconda3\\lib\\site-packages (from tensorflow-intel==2.17.0->tensorflow) (1.26.4)\n",
      "Requirement already satisfied: wheel<1.0,>=0.23.0 in c:\\users\\agnes\\anaconda3\\lib\\site-packages (from astunparse>=1.6.0->tensorflow-intel==2.17.0->tensorflow) (0.43.0)\n",
      "Requirement already satisfied: rich in c:\\users\\agnes\\anaconda3\\lib\\site-packages (from keras>=3.2.0->tensorflow-intel==2.17.0->tensorflow) (13.3.5)\n",
      "Requirement already satisfied: namex in c:\\users\\agnes\\anaconda3\\lib\\site-packages (from keras>=3.2.0->tensorflow-intel==2.17.0->tensorflow) (0.0.8)\n",
      "Requirement already satisfied: optree in c:\\users\\agnes\\anaconda3\\lib\\site-packages (from keras>=3.2.0->tensorflow-intel==2.17.0->tensorflow) (0.12.1)\n",
      "Requirement already satisfied: charset-normalizer<4,>=2 in c:\\users\\agnes\\anaconda3\\lib\\site-packages (from requests<3,>=2.21.0->tensorflow-intel==2.17.0->tensorflow) (2.0.4)\n",
      "Requirement already satisfied: idna<4,>=2.5 in c:\\users\\agnes\\anaconda3\\lib\\site-packages (from requests<3,>=2.21.0->tensorflow-intel==2.17.0->tensorflow) (3.7)\n",
      "Requirement already satisfied: urllib3<3,>=1.21.1 in c:\\users\\agnes\\anaconda3\\lib\\site-packages (from requests<3,>=2.21.0->tensorflow-intel==2.17.0->tensorflow) (2.2.2)\n",
      "Requirement already satisfied: certifi>=2017.4.17 in c:\\users\\agnes\\anaconda3\\lib\\site-packages (from requests<3,>=2.21.0->tensorflow-intel==2.17.0->tensorflow) (2024.7.4)\n",
      "Requirement already satisfied: markdown>=2.6.8 in c:\\users\\agnes\\anaconda3\\lib\\site-packages (from tensorboard<2.18,>=2.17->tensorflow-intel==2.17.0->tensorflow) (3.4.1)\n",
      "Requirement already satisfied: tensorboard-data-server<0.8.0,>=0.7.0 in c:\\users\\agnes\\anaconda3\\lib\\site-packages (from tensorboard<2.18,>=2.17->tensorflow-intel==2.17.0->tensorflow) (0.7.2)\n",
      "Requirement already satisfied: werkzeug>=1.0.1 in c:\\users\\agnes\\anaconda3\\lib\\site-packages (from tensorboard<2.18,>=2.17->tensorflow-intel==2.17.0->tensorflow) (3.0.3)\n",
      "Requirement already satisfied: MarkupSafe>=2.1.1 in c:\\users\\agnes\\anaconda3\\lib\\site-packages (from werkzeug>=1.0.1->tensorboard<2.18,>=2.17->tensorflow-intel==2.17.0->tensorflow) (2.1.3)\n",
      "Requirement already satisfied: markdown-it-py<3.0.0,>=2.2.0 in c:\\users\\agnes\\anaconda3\\lib\\site-packages (from rich->keras>=3.2.0->tensorflow-intel==2.17.0->tensorflow) (2.2.0)\n",
      "Requirement already satisfied: pygments<3.0.0,>=2.13.0 in c:\\users\\agnes\\anaconda3\\lib\\site-packages (from rich->keras>=3.2.0->tensorflow-intel==2.17.0->tensorflow) (2.15.1)\n",
      "Requirement already satisfied: mdurl~=0.1 in c:\\users\\agnes\\anaconda3\\lib\\site-packages (from markdown-it-py<3.0.0,>=2.2.0->rich->keras>=3.2.0->tensorflow-intel==2.17.0->tensorflow) (0.1.0)\n"
     ]
    }
   ],
   "source": [
    "!pip install tensorflow"
   ]
  },
  {
   "cell_type": "code",
   "execution_count": 132,
   "id": "8903e1ad-421d-4f6a-a6b2-245fb48a2c59",
   "metadata": {},
   "outputs": [],
   "source": [
    "from keras.layers import Dense, Dropout, LSTM\n",
    "from keras.models import Sequential\n"
   ]
  },
  {
   "cell_type": "code",
   "execution_count": 133,
   "id": "137706ce-b169-4f79-8f34-f4e5900a32cd",
   "metadata": {},
   "outputs": [
    {
     "name": "stderr",
     "output_type": "stream",
     "text": [
      "C:\\Users\\agnes\\anaconda3\\Lib\\site-packages\\keras\\src\\layers\\rnn\\rnn.py:204: UserWarning: Do not pass an `input_shape`/`input_dim` argument to a layer. When using Sequential models, prefer using an `Input(shape)` object as the first layer in the model instead.\n",
      "  super().__init__(**kwargs)\n"
     ]
    }
   ],
   "source": [
    "model = Sequential()\n",
    "model.add(LSTM(units = 50, activation = 'relu', return_sequences = True,\n",
    "               input_shape = ((x.shape[1], 1))))\n",
    "model.add(Dropout(0.2))\n",
    "\n",
    "model.add(LSTM(units = 60, activation = 'relu', return_sequences = True))\n",
    "model.add(Dropout(0.3))\n",
    "\n",
    "model.add(LSTM(units = 80, activation = 'relu', return_sequences = True))\n",
    "model.add(Dropout(0.4))\n",
    "\n",
    "model.add(LSTM(units = 120, activation = 'relu'))\n",
    "model.add(Dropout(0.5))\n",
    "\n",
    "model.add(Dense(units = 1))"
   ]
  },
  {
   "cell_type": "code",
   "execution_count": 134,
   "id": "ad7945ee-4976-46b5-b260-b8084033a613",
   "metadata": {},
   "outputs": [],
   "source": [
    "model.compile(optimizer = 'adam', loss = 'mean_squared_error')"
   ]
  },
  {
   "cell_type": "code",
   "execution_count": 135,
   "id": "4c76f1b7-baa8-4ae4-9246-694f543b6a75",
   "metadata": {},
   "outputs": [
    {
     "name": "stdout",
     "output_type": "stream",
     "text": [
      "Epoch 1/50\n",
      "\u001b[1m66/66\u001b[0m \u001b[32m━━━━━━━━━━━━━━━━━━━━\u001b[0m\u001b[37m\u001b[0m \u001b[1m32s\u001b[0m 267ms/step - loss: 0.0702\n",
      "Epoch 2/50\n",
      "\u001b[1m66/66\u001b[0m \u001b[32m━━━━━━━━━━━━━━━━━━━━\u001b[0m\u001b[37m\u001b[0m \u001b[1m16s\u001b[0m 244ms/step - loss: 0.0077\n",
      "Epoch 3/50\n",
      "\u001b[1m66/66\u001b[0m \u001b[32m━━━━━━━━━━━━━━━━━━━━\u001b[0m\u001b[37m\u001b[0m \u001b[1m16s\u001b[0m 240ms/step - loss: 0.0064\n",
      "Epoch 4/50\n",
      "\u001b[1m66/66\u001b[0m \u001b[32m━━━━━━━━━━━━━━━━━━━━\u001b[0m\u001b[37m\u001b[0m \u001b[1m16s\u001b[0m 244ms/step - loss: 0.0051\n",
      "Epoch 5/50\n",
      "\u001b[1m66/66\u001b[0m \u001b[32m━━━━━━━━━━━━━━━━━━━━\u001b[0m\u001b[37m\u001b[0m \u001b[1m15s\u001b[0m 232ms/step - loss: 0.0052\n",
      "Epoch 6/50\n",
      "\u001b[1m66/66\u001b[0m \u001b[32m━━━━━━━━━━━━━━━━━━━━\u001b[0m\u001b[37m\u001b[0m \u001b[1m21s\u001b[0m 242ms/step - loss: 0.0046\n",
      "Epoch 7/50\n",
      "\u001b[1m66/66\u001b[0m \u001b[32m━━━━━━━━━━━━━━━━━━━━\u001b[0m\u001b[37m\u001b[0m \u001b[1m16s\u001b[0m 242ms/step - loss: 0.0045\n",
      "Epoch 8/50\n",
      "\u001b[1m66/66\u001b[0m \u001b[32m━━━━━━━━━━━━━━━━━━━━\u001b[0m\u001b[37m\u001b[0m \u001b[1m16s\u001b[0m 241ms/step - loss: 0.0041\n",
      "Epoch 9/50\n",
      "\u001b[1m66/66\u001b[0m \u001b[32m━━━━━━━━━━━━━━━━━━━━\u001b[0m\u001b[37m\u001b[0m \u001b[1m15s\u001b[0m 230ms/step - loss: 0.0039\n",
      "Epoch 10/50\n",
      "\u001b[1m66/66\u001b[0m \u001b[32m━━━━━━━━━━━━━━━━━━━━\u001b[0m\u001b[37m\u001b[0m \u001b[1m17s\u001b[0m 250ms/step - loss: 0.0048\n",
      "Epoch 11/50\n",
      "\u001b[1m66/66\u001b[0m \u001b[32m━━━━━━━━━━━━━━━━━━━━\u001b[0m\u001b[37m\u001b[0m \u001b[1m20s\u001b[0m 234ms/step - loss: 0.0038\n",
      "Epoch 12/50\n",
      "\u001b[1m66/66\u001b[0m \u001b[32m━━━━━━━━━━━━━━━━━━━━\u001b[0m\u001b[37m\u001b[0m \u001b[1m16s\u001b[0m 245ms/step - loss: 0.0036\n",
      "Epoch 13/50\n",
      "\u001b[1m66/66\u001b[0m \u001b[32m━━━━━━━━━━━━━━━━━━━━\u001b[0m\u001b[37m\u001b[0m \u001b[1m17s\u001b[0m 254ms/step - loss: 0.0032\n",
      "Epoch 14/50\n",
      "\u001b[1m66/66\u001b[0m \u001b[32m━━━━━━━━━━━━━━━━━━━━\u001b[0m\u001b[37m\u001b[0m \u001b[1m16s\u001b[0m 243ms/step - loss: 0.0041\n",
      "Epoch 15/50\n",
      "\u001b[1m66/66\u001b[0m \u001b[32m━━━━━━━━━━━━━━━━━━━━\u001b[0m\u001b[37m\u001b[0m \u001b[1m20s\u001b[0m 236ms/step - loss: 0.0034\n",
      "Epoch 16/50\n",
      "\u001b[1m66/66\u001b[0m \u001b[32m━━━━━━━━━━━━━━━━━━━━\u001b[0m\u001b[37m\u001b[0m \u001b[1m16s\u001b[0m 237ms/step - loss: 0.0028\n",
      "Epoch 17/50\n",
      "\u001b[1m66/66\u001b[0m \u001b[32m━━━━━━━━━━━━━━━━━━━━\u001b[0m\u001b[37m\u001b[0m \u001b[1m16s\u001b[0m 237ms/step - loss: 0.0031\n",
      "Epoch 18/50\n",
      "\u001b[1m66/66\u001b[0m \u001b[32m━━━━━━━━━━━━━━━━━━━━\u001b[0m\u001b[37m\u001b[0m \u001b[1m16s\u001b[0m 237ms/step - loss: 0.0030\n",
      "Epoch 19/50\n",
      "\u001b[1m66/66\u001b[0m \u001b[32m━━━━━━━━━━━━━━━━━━━━\u001b[0m\u001b[37m\u001b[0m \u001b[1m17s\u001b[0m 252ms/step - loss: 0.0029\n",
      "Epoch 20/50\n",
      "\u001b[1m66/66\u001b[0m \u001b[32m━━━━━━━━━━━━━━━━━━━━\u001b[0m\u001b[37m\u001b[0m \u001b[1m18s\u001b[0m 272ms/step - loss: 0.0031\n",
      "Epoch 21/50\n",
      "\u001b[1m66/66\u001b[0m \u001b[32m━━━━━━━━━━━━━━━━━━━━\u001b[0m\u001b[37m\u001b[0m \u001b[1m22s\u001b[0m 287ms/step - loss: 0.0024\n",
      "Epoch 22/50\n",
      "\u001b[1m66/66\u001b[0m \u001b[32m━━━━━━━━━━━━━━━━━━━━\u001b[0m\u001b[37m\u001b[0m \u001b[1m18s\u001b[0m 276ms/step - loss: 0.0029\n",
      "Epoch 23/50\n",
      "\u001b[1m66/66\u001b[0m \u001b[32m━━━━━━━━━━━━━━━━━━━━\u001b[0m\u001b[37m\u001b[0m \u001b[1m17s\u001b[0m 255ms/step - loss: 0.0027\n",
      "Epoch 24/50\n",
      "\u001b[1m66/66\u001b[0m \u001b[32m━━━━━━━━━━━━━━━━━━━━\u001b[0m\u001b[37m\u001b[0m \u001b[1m15s\u001b[0m 230ms/step - loss: 0.0024\n",
      "Epoch 25/50\n",
      "\u001b[1m66/66\u001b[0m \u001b[32m━━━━━━━━━━━━━━━━━━━━\u001b[0m\u001b[37m\u001b[0m \u001b[1m17s\u001b[0m 258ms/step - loss: 0.0027\n",
      "Epoch 26/50\n",
      "\u001b[1m66/66\u001b[0m \u001b[32m━━━━━━━━━━━━━━━━━━━━\u001b[0m\u001b[37m\u001b[0m \u001b[1m16s\u001b[0m 233ms/step - loss: 0.0023\n",
      "Epoch 27/50\n",
      "\u001b[1m66/66\u001b[0m \u001b[32m━━━━━━━━━━━━━━━━━━━━\u001b[0m\u001b[37m\u001b[0m \u001b[1m16s\u001b[0m 236ms/step - loss: 0.0024\n",
      "Epoch 28/50\n",
      "\u001b[1m66/66\u001b[0m \u001b[32m━━━━━━━━━━━━━━━━━━━━\u001b[0m\u001b[37m\u001b[0m \u001b[1m16s\u001b[0m 235ms/step - loss: 0.0023\n",
      "Epoch 29/50\n",
      "\u001b[1m66/66\u001b[0m \u001b[32m━━━━━━━━━━━━━━━━━━━━\u001b[0m\u001b[37m\u001b[0m \u001b[1m22s\u001b[0m 252ms/step - loss: 0.0022\n",
      "Epoch 30/50\n",
      "\u001b[1m66/66\u001b[0m \u001b[32m━━━━━━━━━━━━━━━━━━━━\u001b[0m\u001b[37m\u001b[0m \u001b[1m20s\u001b[0m 244ms/step - loss: 0.0024\n",
      "Epoch 31/50\n",
      "\u001b[1m66/66\u001b[0m \u001b[32m━━━━━━━━━━━━━━━━━━━━\u001b[0m\u001b[37m\u001b[0m \u001b[1m16s\u001b[0m 242ms/step - loss: 0.0023\n",
      "Epoch 32/50\n",
      "\u001b[1m66/66\u001b[0m \u001b[32m━━━━━━━━━━━━━━━━━━━━\u001b[0m\u001b[37m\u001b[0m \u001b[1m16s\u001b[0m 249ms/step - loss: 0.0022\n",
      "Epoch 33/50\n",
      "\u001b[1m66/66\u001b[0m \u001b[32m━━━━━━━━━━━━━━━━━━━━\u001b[0m\u001b[37m\u001b[0m \u001b[1m20s\u001b[0m 232ms/step - loss: 0.0022\n",
      "Epoch 34/50\n",
      "\u001b[1m66/66\u001b[0m \u001b[32m━━━━━━━━━━━━━━━━━━━━\u001b[0m\u001b[37m\u001b[0m \u001b[1m16s\u001b[0m 248ms/step - loss: 0.0021\n",
      "Epoch 35/50\n",
      "\u001b[1m66/66\u001b[0m \u001b[32m━━━━━━━━━━━━━━━━━━━━\u001b[0m\u001b[37m\u001b[0m \u001b[1m20s\u001b[0m 232ms/step - loss: 0.0023\n",
      "Epoch 36/50\n",
      "\u001b[1m66/66\u001b[0m \u001b[32m━━━━━━━━━━━━━━━━━━━━\u001b[0m\u001b[37m\u001b[0m \u001b[1m22s\u001b[0m 251ms/step - loss: 0.0023\n",
      "Epoch 37/50\n",
      "\u001b[1m66/66\u001b[0m \u001b[32m━━━━━━━━━━━━━━━━━━━━\u001b[0m\u001b[37m\u001b[0m \u001b[1m17s\u001b[0m 254ms/step - loss: 0.0021\n",
      "Epoch 38/50\n",
      "\u001b[1m66/66\u001b[0m \u001b[32m━━━━━━━━━━━━━━━━━━━━\u001b[0m\u001b[37m\u001b[0m \u001b[1m20s\u001b[0m 239ms/step - loss: 0.0021\n",
      "Epoch 39/50\n",
      "\u001b[1m66/66\u001b[0m \u001b[32m━━━━━━━━━━━━━━━━━━━━\u001b[0m\u001b[37m\u001b[0m \u001b[1m17s\u001b[0m 246ms/step - loss: 0.0022\n",
      "Epoch 40/50\n",
      "\u001b[1m66/66\u001b[0m \u001b[32m━━━━━━━━━━━━━━━━━━━━\u001b[0m\u001b[37m\u001b[0m \u001b[1m16s\u001b[0m 240ms/step - loss: 0.0018\n",
      "Epoch 41/50\n",
      "\u001b[1m66/66\u001b[0m \u001b[32m━━━━━━━━━━━━━━━━━━━━\u001b[0m\u001b[37m\u001b[0m \u001b[1m16s\u001b[0m 247ms/step - loss: 0.0019\n",
      "Epoch 42/50\n",
      "\u001b[1m66/66\u001b[0m \u001b[32m━━━━━━━━━━━━━━━━━━━━\u001b[0m\u001b[37m\u001b[0m \u001b[1m21s\u001b[0m 246ms/step - loss: 0.0020\n",
      "Epoch 43/50\n",
      "\u001b[1m66/66\u001b[0m \u001b[32m━━━━━━━━━━━━━━━━━━━━\u001b[0m\u001b[37m\u001b[0m \u001b[1m17s\u001b[0m 254ms/step - loss: 0.0020\n",
      "Epoch 44/50\n",
      "\u001b[1m66/66\u001b[0m \u001b[32m━━━━━━━━━━━━━━━━━━━━\u001b[0m\u001b[37m\u001b[0m \u001b[1m16s\u001b[0m 248ms/step - loss: 0.0018\n",
      "Epoch 45/50\n",
      "\u001b[1m66/66\u001b[0m \u001b[32m━━━━━━━━━━━━━━━━━━━━\u001b[0m\u001b[37m\u001b[0m \u001b[1m21s\u001b[0m 248ms/step - loss: 0.0019\n",
      "Epoch 46/50\n",
      "\u001b[1m66/66\u001b[0m \u001b[32m━━━━━━━━━━━━━━━━━━━━\u001b[0m\u001b[37m\u001b[0m \u001b[1m22s\u001b[0m 264ms/step - loss: 0.0022\n",
      "Epoch 47/50\n",
      "\u001b[1m66/66\u001b[0m \u001b[32m━━━━━━━━━━━━━━━━━━━━\u001b[0m\u001b[37m\u001b[0m \u001b[1m17s\u001b[0m 255ms/step - loss: 0.0018\n",
      "Epoch 48/50\n",
      "\u001b[1m66/66\u001b[0m \u001b[32m━━━━━━━━━━━━━━━━━━━━\u001b[0m\u001b[37m\u001b[0m \u001b[1m22s\u001b[0m 271ms/step - loss: 0.0020\n",
      "Epoch 49/50\n",
      "\u001b[1m66/66\u001b[0m \u001b[32m━━━━━━━━━━━━━━━━━━━━\u001b[0m\u001b[37m\u001b[0m \u001b[1m23s\u001b[0m 307ms/step - loss: 0.0019\n",
      "Epoch 50/50\n",
      "\u001b[1m66/66\u001b[0m \u001b[32m━━━━━━━━━━━━━━━━━━━━\u001b[0m\u001b[37m\u001b[0m \u001b[1m20s\u001b[0m 289ms/step - loss: 0.0018\n"
     ]
    },
    {
     "data": {
      "text/plain": [
       "<keras.src.callbacks.history.History at 0x211acf98890>"
      ]
     },
     "execution_count": 135,
     "metadata": {},
     "output_type": "execute_result"
    }
   ],
   "source": [
    "model.fit(x,y, epochs = 50, batch_size = 32, verbose=1) \n"
   ]
  },
  {
   "cell_type": "code",
   "execution_count": 136,
   "id": "3c6ead8c-4951-4bbe-a698-d04d6cf7b8f8",
   "metadata": {},
   "outputs": [
    {
     "data": {
      "text/html": [
       "<pre style=\"white-space:pre;overflow-x:auto;line-height:normal;font-family:Menlo,'DejaVu Sans Mono',consolas,'Courier New',monospace\"><span style=\"font-weight: bold\">Model: \"sequential_1\"</span>\n",
       "</pre>\n"
      ],
      "text/plain": [
       "\u001b[1mModel: \"sequential_1\"\u001b[0m\n"
      ]
     },
     "metadata": {},
     "output_type": "display_data"
    },
    {
     "data": {
      "text/html": [
       "<pre style=\"white-space:pre;overflow-x:auto;line-height:normal;font-family:Menlo,'DejaVu Sans Mono',consolas,'Courier New',monospace\">┏━━━━━━━━━━━━━━━━━━━━━━━━━━━━━━━━━━━━━━┳━━━━━━━━━━━━━━━━━━━━━━━━━━━━━┳━━━━━━━━━━━━━━━━━┓\n",
       "┃<span style=\"font-weight: bold\"> Layer (type)                         </span>┃<span style=\"font-weight: bold\"> Output Shape                </span>┃<span style=\"font-weight: bold\">         Param # </span>┃\n",
       "┡━━━━━━━━━━━━━━━━━━━━━━━━━━━━━━━━━━━━━━╇━━━━━━━━━━━━━━━━━━━━━━━━━━━━━╇━━━━━━━━━━━━━━━━━┩\n",
       "│ lstm_4 (<span style=\"color: #0087ff; text-decoration-color: #0087ff\">LSTM</span>)                        │ (<span style=\"color: #00d7ff; text-decoration-color: #00d7ff\">None</span>, <span style=\"color: #00af00; text-decoration-color: #00af00\">100</span>, <span style=\"color: #00af00; text-decoration-color: #00af00\">50</span>)             │          <span style=\"color: #00af00; text-decoration-color: #00af00\">10,400</span> │\n",
       "├──────────────────────────────────────┼─────────────────────────────┼─────────────────┤\n",
       "│ dropout_4 (<span style=\"color: #0087ff; text-decoration-color: #0087ff\">Dropout</span>)                  │ (<span style=\"color: #00d7ff; text-decoration-color: #00d7ff\">None</span>, <span style=\"color: #00af00; text-decoration-color: #00af00\">100</span>, <span style=\"color: #00af00; text-decoration-color: #00af00\">50</span>)             │               <span style=\"color: #00af00; text-decoration-color: #00af00\">0</span> │\n",
       "├──────────────────────────────────────┼─────────────────────────────┼─────────────────┤\n",
       "│ lstm_5 (<span style=\"color: #0087ff; text-decoration-color: #0087ff\">LSTM</span>)                        │ (<span style=\"color: #00d7ff; text-decoration-color: #00d7ff\">None</span>, <span style=\"color: #00af00; text-decoration-color: #00af00\">100</span>, <span style=\"color: #00af00; text-decoration-color: #00af00\">60</span>)             │          <span style=\"color: #00af00; text-decoration-color: #00af00\">26,640</span> │\n",
       "├──────────────────────────────────────┼─────────────────────────────┼─────────────────┤\n",
       "│ dropout_5 (<span style=\"color: #0087ff; text-decoration-color: #0087ff\">Dropout</span>)                  │ (<span style=\"color: #00d7ff; text-decoration-color: #00d7ff\">None</span>, <span style=\"color: #00af00; text-decoration-color: #00af00\">100</span>, <span style=\"color: #00af00; text-decoration-color: #00af00\">60</span>)             │               <span style=\"color: #00af00; text-decoration-color: #00af00\">0</span> │\n",
       "├──────────────────────────────────────┼─────────────────────────────┼─────────────────┤\n",
       "│ lstm_6 (<span style=\"color: #0087ff; text-decoration-color: #0087ff\">LSTM</span>)                        │ (<span style=\"color: #00d7ff; text-decoration-color: #00d7ff\">None</span>, <span style=\"color: #00af00; text-decoration-color: #00af00\">100</span>, <span style=\"color: #00af00; text-decoration-color: #00af00\">80</span>)             │          <span style=\"color: #00af00; text-decoration-color: #00af00\">45,120</span> │\n",
       "├──────────────────────────────────────┼─────────────────────────────┼─────────────────┤\n",
       "│ dropout_6 (<span style=\"color: #0087ff; text-decoration-color: #0087ff\">Dropout</span>)                  │ (<span style=\"color: #00d7ff; text-decoration-color: #00d7ff\">None</span>, <span style=\"color: #00af00; text-decoration-color: #00af00\">100</span>, <span style=\"color: #00af00; text-decoration-color: #00af00\">80</span>)             │               <span style=\"color: #00af00; text-decoration-color: #00af00\">0</span> │\n",
       "├──────────────────────────────────────┼─────────────────────────────┼─────────────────┤\n",
       "│ lstm_7 (<span style=\"color: #0087ff; text-decoration-color: #0087ff\">LSTM</span>)                        │ (<span style=\"color: #00d7ff; text-decoration-color: #00d7ff\">None</span>, <span style=\"color: #00af00; text-decoration-color: #00af00\">120</span>)                 │          <span style=\"color: #00af00; text-decoration-color: #00af00\">96,480</span> │\n",
       "├──────────────────────────────────────┼─────────────────────────────┼─────────────────┤\n",
       "│ dropout_7 (<span style=\"color: #0087ff; text-decoration-color: #0087ff\">Dropout</span>)                  │ (<span style=\"color: #00d7ff; text-decoration-color: #00d7ff\">None</span>, <span style=\"color: #00af00; text-decoration-color: #00af00\">120</span>)                 │               <span style=\"color: #00af00; text-decoration-color: #00af00\">0</span> │\n",
       "├──────────────────────────────────────┼─────────────────────────────┼─────────────────┤\n",
       "│ dense_1 (<span style=\"color: #0087ff; text-decoration-color: #0087ff\">Dense</span>)                      │ (<span style=\"color: #00d7ff; text-decoration-color: #00d7ff\">None</span>, <span style=\"color: #00af00; text-decoration-color: #00af00\">1</span>)                   │             <span style=\"color: #00af00; text-decoration-color: #00af00\">121</span> │\n",
       "└──────────────────────────────────────┴─────────────────────────────┴─────────────────┘\n",
       "</pre>\n"
      ],
      "text/plain": [
       "┏━━━━━━━━━━━━━━━━━━━━━━━━━━━━━━━━━━━━━━┳━━━━━━━━━━━━━━━━━━━━━━━━━━━━━┳━━━━━━━━━━━━━━━━━┓\n",
       "┃\u001b[1m \u001b[0m\u001b[1mLayer (type)                        \u001b[0m\u001b[1m \u001b[0m┃\u001b[1m \u001b[0m\u001b[1mOutput Shape               \u001b[0m\u001b[1m \u001b[0m┃\u001b[1m \u001b[0m\u001b[1m        Param #\u001b[0m\u001b[1m \u001b[0m┃\n",
       "┡━━━━━━━━━━━━━━━━━━━━━━━━━━━━━━━━━━━━━━╇━━━━━━━━━━━━━━━━━━━━━━━━━━━━━╇━━━━━━━━━━━━━━━━━┩\n",
       "│ lstm_4 (\u001b[38;5;33mLSTM\u001b[0m)                        │ (\u001b[38;5;45mNone\u001b[0m, \u001b[38;5;34m100\u001b[0m, \u001b[38;5;34m50\u001b[0m)             │          \u001b[38;5;34m10,400\u001b[0m │\n",
       "├──────────────────────────────────────┼─────────────────────────────┼─────────────────┤\n",
       "│ dropout_4 (\u001b[38;5;33mDropout\u001b[0m)                  │ (\u001b[38;5;45mNone\u001b[0m, \u001b[38;5;34m100\u001b[0m, \u001b[38;5;34m50\u001b[0m)             │               \u001b[38;5;34m0\u001b[0m │\n",
       "├──────────────────────────────────────┼─────────────────────────────┼─────────────────┤\n",
       "│ lstm_5 (\u001b[38;5;33mLSTM\u001b[0m)                        │ (\u001b[38;5;45mNone\u001b[0m, \u001b[38;5;34m100\u001b[0m, \u001b[38;5;34m60\u001b[0m)             │          \u001b[38;5;34m26,640\u001b[0m │\n",
       "├──────────────────────────────────────┼─────────────────────────────┼─────────────────┤\n",
       "│ dropout_5 (\u001b[38;5;33mDropout\u001b[0m)                  │ (\u001b[38;5;45mNone\u001b[0m, \u001b[38;5;34m100\u001b[0m, \u001b[38;5;34m60\u001b[0m)             │               \u001b[38;5;34m0\u001b[0m │\n",
       "├──────────────────────────────────────┼─────────────────────────────┼─────────────────┤\n",
       "│ lstm_6 (\u001b[38;5;33mLSTM\u001b[0m)                        │ (\u001b[38;5;45mNone\u001b[0m, \u001b[38;5;34m100\u001b[0m, \u001b[38;5;34m80\u001b[0m)             │          \u001b[38;5;34m45,120\u001b[0m │\n",
       "├──────────────────────────────────────┼─────────────────────────────┼─────────────────┤\n",
       "│ dropout_6 (\u001b[38;5;33mDropout\u001b[0m)                  │ (\u001b[38;5;45mNone\u001b[0m, \u001b[38;5;34m100\u001b[0m, \u001b[38;5;34m80\u001b[0m)             │               \u001b[38;5;34m0\u001b[0m │\n",
       "├──────────────────────────────────────┼─────────────────────────────┼─────────────────┤\n",
       "│ lstm_7 (\u001b[38;5;33mLSTM\u001b[0m)                        │ (\u001b[38;5;45mNone\u001b[0m, \u001b[38;5;34m120\u001b[0m)                 │          \u001b[38;5;34m96,480\u001b[0m │\n",
       "├──────────────────────────────────────┼─────────────────────────────┼─────────────────┤\n",
       "│ dropout_7 (\u001b[38;5;33mDropout\u001b[0m)                  │ (\u001b[38;5;45mNone\u001b[0m, \u001b[38;5;34m120\u001b[0m)                 │               \u001b[38;5;34m0\u001b[0m │\n",
       "├──────────────────────────────────────┼─────────────────────────────┼─────────────────┤\n",
       "│ dense_1 (\u001b[38;5;33mDense\u001b[0m)                      │ (\u001b[38;5;45mNone\u001b[0m, \u001b[38;5;34m1\u001b[0m)                   │             \u001b[38;5;34m121\u001b[0m │\n",
       "└──────────────────────────────────────┴─────────────────────────────┴─────────────────┘\n"
      ]
     },
     "metadata": {},
     "output_type": "display_data"
    },
    {
     "data": {
      "text/html": [
       "<pre style=\"white-space:pre;overflow-x:auto;line-height:normal;font-family:Menlo,'DejaVu Sans Mono',consolas,'Courier New',monospace\"><span style=\"font-weight: bold\"> Total params: </span><span style=\"color: #00af00; text-decoration-color: #00af00\">536,285</span> (2.05 MB)\n",
       "</pre>\n"
      ],
      "text/plain": [
       "\u001b[1m Total params: \u001b[0m\u001b[38;5;34m536,285\u001b[0m (2.05 MB)\n"
      ]
     },
     "metadata": {},
     "output_type": "display_data"
    },
    {
     "data": {
      "text/html": [
       "<pre style=\"white-space:pre;overflow-x:auto;line-height:normal;font-family:Menlo,'DejaVu Sans Mono',consolas,'Courier New',monospace\"><span style=\"font-weight: bold\"> Trainable params: </span><span style=\"color: #00af00; text-decoration-color: #00af00\">178,761</span> (698.29 KB)\n",
       "</pre>\n"
      ],
      "text/plain": [
       "\u001b[1m Trainable params: \u001b[0m\u001b[38;5;34m178,761\u001b[0m (698.29 KB)\n"
      ]
     },
     "metadata": {},
     "output_type": "display_data"
    },
    {
     "data": {
      "text/html": [
       "<pre style=\"white-space:pre;overflow-x:auto;line-height:normal;font-family:Menlo,'DejaVu Sans Mono',consolas,'Courier New',monospace\"><span style=\"font-weight: bold\"> Non-trainable params: </span><span style=\"color: #00af00; text-decoration-color: #00af00\">0</span> (0.00 B)\n",
       "</pre>\n"
      ],
      "text/plain": [
       "\u001b[1m Non-trainable params: \u001b[0m\u001b[38;5;34m0\u001b[0m (0.00 B)\n"
      ]
     },
     "metadata": {},
     "output_type": "display_data"
    },
    {
     "data": {
      "text/html": [
       "<pre style=\"white-space:pre;overflow-x:auto;line-height:normal;font-family:Menlo,'DejaVu Sans Mono',consolas,'Courier New',monospace\"><span style=\"font-weight: bold\"> Optimizer params: </span><span style=\"color: #00af00; text-decoration-color: #00af00\">357,524</span> (1.36 MB)\n",
       "</pre>\n"
      ],
      "text/plain": [
       "\u001b[1m Optimizer params: \u001b[0m\u001b[38;5;34m357,524\u001b[0m (1.36 MB)\n"
      ]
     },
     "metadata": {},
     "output_type": "display_data"
    }
   ],
   "source": [
    "model.summary()"
   ]
  },
  {
   "cell_type": "code",
   "execution_count": 137,
   "id": "aa1a8ed8-7e8c-42ec-b648-d7731ab342c5",
   "metadata": {},
   "outputs": [],
   "source": [
    "pas_100_days = data_train.tail(100)\n"
   ]
  },
  {
   "cell_type": "code",
   "execution_count": 138,
   "id": "6f7bea71-f303-404c-a7f4-ec1b3886d8bc",
   "metadata": {},
   "outputs": [],
   "source": [
    "data_test = pd.concat([pas_100_days, data_test], ignore_index=True)"
   ]
  },
  {
   "cell_type": "code",
   "execution_count": 139,
   "id": "2a30d63f-439f-4241-a83a-6bdfa8f1914f",
   "metadata": {},
   "outputs": [],
   "source": [
    "data_test_scale = scaler.fit_transform(data_test)"
   ]
  },
  {
   "cell_type": "code",
   "execution_count": 140,
   "id": "c948665e-e28d-400d-8e5d-3a6f1970696d",
   "metadata": {},
   "outputs": [],
   "source": [
    "x=[]\n",
    "y=[]\n",
    "\n",
    "for i in range(100, data_test_scale.shape[0]):\n",
    "    x.append(data_test_scale[i-100:i])\n",
    "    y.append(data_test_scale[i,0])\n",
    "x , y = np.array(x), np.array(y)"
   ]
  },
  {
   "cell_type": "code",
   "execution_count": 141,
   "id": "c3a13005-a84d-499b-98c1-839c4926eb64",
   "metadata": {},
   "outputs": [
    {
     "name": "stdout",
     "output_type": "stream",
     "text": [
      "\u001b[1m18/18\u001b[0m \u001b[32m━━━━━━━━━━━━━━━━━━━━\u001b[0m\u001b[37m\u001b[0m \u001b[1m4s\u001b[0m 145ms/step\n"
     ]
    }
   ],
   "source": [
    "y_predict = model.predict(x)"
   ]
  },
  {
   "cell_type": "code",
   "execution_count": 142,
   "id": "73bab5d6-47f3-40b8-b4c6-df0eefabd44c",
   "metadata": {},
   "outputs": [
    {
     "data": {
      "text/plain": [
       "array([[0.14896525],\n",
       "       [0.1485053 ],\n",
       "       [0.1491093 ],\n",
       "       [0.15083665],\n",
       "       [0.15361442],\n",
       "       [0.15724333],\n",
       "       [0.16136922],\n",
       "       [0.16578236],\n",
       "       [0.17033562],\n",
       "       [0.17492405],\n",
       "       [0.17950393],\n",
       "       [0.18399446],\n",
       "       [0.18831335],\n",
       "       [0.19230369],\n",
       "       [0.19584918],\n",
       "       [0.19893369],\n",
       "       [0.20158434],\n",
       "       [0.2039398 ],\n",
       "       [0.20641112],\n",
       "       [0.20937514],\n",
       "       [0.21307595],\n",
       "       [0.21756026],\n",
       "       [0.2227804 ],\n",
       "       [0.22858196],\n",
       "       [0.23467109],\n",
       "       [0.24088965],\n",
       "       [0.2471515 ],\n",
       "       [0.25338197],\n",
       "       [0.25937143],\n",
       "       [0.26497236],\n",
       "       [0.2700105 ],\n",
       "       [0.27428266],\n",
       "       [0.27766123],\n",
       "       [0.280211  ],\n",
       "       [0.28208447],\n",
       "       [0.28345582],\n",
       "       [0.28456083],\n",
       "       [0.28571248],\n",
       "       [0.2871703 ],\n",
       "       [0.2890623 ],\n",
       "       [0.29130816],\n",
       "       [0.29382432],\n",
       "       [0.2964559 ],\n",
       "       [0.298968  ],\n",
       "       [0.30117753],\n",
       "       [0.30283904],\n",
       "       [0.30384195],\n",
       "       [0.3041376 ],\n",
       "       [0.30377653],\n",
       "       [0.3028052 ],\n",
       "       [0.30131754],\n",
       "       [0.29938433],\n",
       "       [0.29704735],\n",
       "       [0.29438433],\n",
       "       [0.29166156],\n",
       "       [0.28913757],\n",
       "       [0.28691536],\n",
       "       [0.28508264],\n",
       "       [0.2835964 ],\n",
       "       [0.28240776],\n",
       "       [0.28144857],\n",
       "       [0.28080696],\n",
       "       [0.28066412],\n",
       "       [0.28103969],\n",
       "       [0.28182247],\n",
       "       [0.2828736 ],\n",
       "       [0.28403318],\n",
       "       [0.285109  ],\n",
       "       [0.2860635 ],\n",
       "       [0.28720745],\n",
       "       [0.28890133],\n",
       "       [0.29130328],\n",
       "       [0.29450724],\n",
       "       [0.2985585 ],\n",
       "       [0.30303508],\n",
       "       [0.30756703],\n",
       "       [0.3118606 ],\n",
       "       [0.31598508],\n",
       "       [0.31999588],\n",
       "       [0.32417524],\n",
       "       [0.32896566],\n",
       "       [0.33465075],\n",
       "       [0.3414976 ],\n",
       "       [0.34984985],\n",
       "       [0.35959798],\n",
       "       [0.37033886],\n",
       "       [0.3814714 ],\n",
       "       [0.39252874],\n",
       "       [0.40319735],\n",
       "       [0.41311687],\n",
       "       [0.42198217],\n",
       "       [0.4295079 ],\n",
       "       [0.4355798 ],\n",
       "       [0.4403085 ],\n",
       "       [0.44372696],\n",
       "       [0.44587788],\n",
       "       [0.44695827],\n",
       "       [0.44721478],\n",
       "       [0.44679558],\n",
       "       [0.44587332],\n",
       "       [0.44472212],\n",
       "       [0.44344845],\n",
       "       [0.44214457],\n",
       "       [0.44088608],\n",
       "       [0.43986636],\n",
       "       [0.4391506 ],\n",
       "       [0.43874162],\n",
       "       [0.43868   ],\n",
       "       [0.43898118],\n",
       "       [0.43946546],\n",
       "       [0.43993872],\n",
       "       [0.44024056],\n",
       "       [0.4403075 ],\n",
       "       [0.44012067],\n",
       "       [0.4396965 ],\n",
       "       [0.43906048],\n",
       "       [0.4382781 ],\n",
       "       [0.43742603],\n",
       "       [0.4366247 ],\n",
       "       [0.43614763],\n",
       "       [0.4366032 ],\n",
       "       [0.43867838],\n",
       "       [0.44317895],\n",
       "       [0.45069993],\n",
       "       [0.46142143],\n",
       "       [0.47436106],\n",
       "       [0.48819092],\n",
       "       [0.50137204],\n",
       "       [0.51331085],\n",
       "       [0.5237527 ],\n",
       "       [0.532647  ],\n",
       "       [0.5398892 ],\n",
       "       [0.54545856],\n",
       "       [0.54921013],\n",
       "       [0.5516446 ],\n",
       "       [0.55347306],\n",
       "       [0.5550163 ],\n",
       "       [0.5573052 ],\n",
       "       [0.5617068 ],\n",
       "       [0.5688602 ],\n",
       "       [0.578255  ],\n",
       "       [0.5880792 ],\n",
       "       [0.5967348 ],\n",
       "       [0.6036749 ],\n",
       "       [0.6091136 ],\n",
       "       [0.61251885],\n",
       "       [0.61329865],\n",
       "       [0.6109694 ],\n",
       "       [0.6058745 ],\n",
       "       [0.5990309 ],\n",
       "       [0.59148514],\n",
       "       [0.5839906 ],\n",
       "       [0.5771285 ],\n",
       "       [0.5717772 ],\n",
       "       [0.56856036],\n",
       "       [0.5684558 ],\n",
       "       [0.57204163],\n",
       "       [0.57953274],\n",
       "       [0.58976996],\n",
       "       [0.6013025 ],\n",
       "       [0.6130395 ],\n",
       "       [0.6239046 ],\n",
       "       [0.6327942 ],\n",
       "       [0.6399068 ],\n",
       "       [0.6458664 ],\n",
       "       [0.6514078 ],\n",
       "       [0.6570362 ],\n",
       "       [0.6633586 ],\n",
       "       [0.67035925],\n",
       "       [0.67787087],\n",
       "       [0.6853426 ],\n",
       "       [0.69204473],\n",
       "       [0.69768   ],\n",
       "       [0.70181847],\n",
       "       [0.7046108 ],\n",
       "       [0.70652664],\n",
       "       [0.7077528 ],\n",
       "       [0.70871794],\n",
       "       [0.70960116],\n",
       "       [0.71039414],\n",
       "       [0.7107601 ],\n",
       "       [0.7102636 ],\n",
       "       [0.7091431 ],\n",
       "       [0.7085856 ],\n",
       "       [0.70976114],\n",
       "       [0.7132531 ],\n",
       "       [0.71858644],\n",
       "       [0.7250393 ],\n",
       "       [0.73216593],\n",
       "       [0.73958755],\n",
       "       [0.7472367 ],\n",
       "       [0.7544894 ],\n",
       "       [0.760949  ],\n",
       "       [0.7652489 ],\n",
       "       [0.76741093],\n",
       "       [0.768423  ],\n",
       "       [0.769392  ],\n",
       "       [0.7723434 ],\n",
       "       [0.77874964],\n",
       "       [0.7877913 ],\n",
       "       [0.7977932 ],\n",
       "       [0.80721474],\n",
       "       [0.81437635],\n",
       "       [0.81879336],\n",
       "       [0.8207214 ],\n",
       "       [0.82058835],\n",
       "       [0.8193233 ],\n",
       "       [0.817721  ],\n",
       "       [0.8166625 ],\n",
       "       [0.81661433],\n",
       "       [0.81747633],\n",
       "       [0.81922007],\n",
       "       [0.8216384 ],\n",
       "       [0.82460487],\n",
       "       [0.82723534],\n",
       "       [0.82863295],\n",
       "       [0.82860756],\n",
       "       [0.82795286],\n",
       "       [0.8282142 ],\n",
       "       [0.8305975 ],\n",
       "       [0.83551645],\n",
       "       [0.84224564],\n",
       "       [0.8505148 ],\n",
       "       [0.85994613],\n",
       "       [0.86975706],\n",
       "       [0.8791492 ],\n",
       "       [0.8866457 ],\n",
       "       [0.89161646],\n",
       "       [0.8942806 ],\n",
       "       [0.89479977],\n",
       "       [0.89357454],\n",
       "       [0.8900312 ],\n",
       "       [0.8848544 ],\n",
       "       [0.8789383 ],\n",
       "       [0.87381274],\n",
       "       [0.8701551 ],\n",
       "       [0.8671152 ],\n",
       "       [0.86321694],\n",
       "       [0.8582264 ],\n",
       "       [0.85299313],\n",
       "       [0.848708  ],\n",
       "       [0.84643704],\n",
       "       [0.846223  ],\n",
       "       [0.8454881 ],\n",
       "       [0.8422103 ],\n",
       "       [0.8354945 ],\n",
       "       [0.82691735],\n",
       "       [0.8172848 ],\n",
       "       [0.80834943],\n",
       "       [0.80177283],\n",
       "       [0.79905367],\n",
       "       [0.8009564 ],\n",
       "       [0.80663824],\n",
       "       [0.81388587],\n",
       "       [0.8212521 ],\n",
       "       [0.828946  ],\n",
       "       [0.8370373 ],\n",
       "       [0.8456264 ],\n",
       "       [0.85462075],\n",
       "       [0.86296624],\n",
       "       [0.8698436 ],\n",
       "       [0.87297726],\n",
       "       [0.8717364 ],\n",
       "       [0.86705554],\n",
       "       [0.8624239 ],\n",
       "       [0.8601438 ],\n",
       "       [0.8618376 ],\n",
       "       [0.86596924],\n",
       "       [0.8716126 ],\n",
       "       [0.878147  ],\n",
       "       [0.8855469 ],\n",
       "       [0.89361256],\n",
       "       [0.90181154],\n",
       "       [0.90940785],\n",
       "       [0.9145738 ],\n",
       "       [0.91653895],\n",
       "       [0.91667235],\n",
       "       [0.9159708 ],\n",
       "       [0.91493267],\n",
       "       [0.9138235 ],\n",
       "       [0.9134371 ],\n",
       "       [0.9138122 ],\n",
       "       [0.9135535 ],\n",
       "       [0.91190535],\n",
       "       [0.9088414 ],\n",
       "       [0.9033374 ],\n",
       "       [0.8967417 ],\n",
       "       [0.88906974],\n",
       "       [0.8804836 ],\n",
       "       [0.87235785],\n",
       "       [0.8654121 ],\n",
       "       [0.86056477],\n",
       "       [0.85967517],\n",
       "       [0.86362547],\n",
       "       [0.8716772 ],\n",
       "       [0.8824574 ],\n",
       "       [0.8935238 ],\n",
       "       [0.9022143 ],\n",
       "       [0.9082102 ],\n",
       "       [0.9106287 ],\n",
       "       [0.9088164 ],\n",
       "       [0.90308136],\n",
       "       [0.89515805],\n",
       "       [0.8876195 ],\n",
       "       [0.8822147 ],\n",
       "       [0.8800563 ],\n",
       "       [0.8807209 ],\n",
       "       [0.8833404 ],\n",
       "       [0.8867731 ],\n",
       "       [0.88959664],\n",
       "       [0.89123863],\n",
       "       [0.8913655 ],\n",
       "       [0.88754445],\n",
       "       [0.87925243],\n",
       "       [0.86724097],\n",
       "       [0.853573  ],\n",
       "       [0.8407114 ],\n",
       "       [0.8309871 ],\n",
       "       [0.8248908 ],\n",
       "       [0.8225079 ],\n",
       "       [0.8220661 ],\n",
       "       [0.8218542 ],\n",
       "       [0.8201377 ],\n",
       "       [0.81518126],\n",
       "       [0.80687094],\n",
       "       [0.7949457 ],\n",
       "       [0.78090626],\n",
       "       [0.7664583 ],\n",
       "       [0.7542987 ],\n",
       "       [0.7470368 ],\n",
       "       [0.74672526],\n",
       "       [0.75680876],\n",
       "       [0.77606297],\n",
       "       [0.8010874 ],\n",
       "       [0.8261667 ],\n",
       "       [0.8469801 ],\n",
       "       [0.8622938 ],\n",
       "       [0.87085605],\n",
       "       [0.8712437 ],\n",
       "       [0.8646102 ],\n",
       "       [0.8533923 ],\n",
       "       [0.84031403],\n",
       "       [0.8258599 ],\n",
       "       [0.81014425],\n",
       "       [0.793509  ],\n",
       "       [0.7762628 ],\n",
       "       [0.7606641 ],\n",
       "       [0.74917454],\n",
       "       [0.7434533 ],\n",
       "       [0.74371254],\n",
       "       [0.7492869 ],\n",
       "       [0.75860834],\n",
       "       [0.76897395],\n",
       "       [0.7759127 ],\n",
       "       [0.77752435],\n",
       "       [0.77623093],\n",
       "       [0.7739833 ],\n",
       "       [0.7712745 ],\n",
       "       [0.76698357],\n",
       "       [0.76156974],\n",
       "       [0.7570678 ],\n",
       "       [0.7553303 ],\n",
       "       [0.7578447 ],\n",
       "       [0.7646419 ],\n",
       "       [0.7759417 ],\n",
       "       [0.79023254],\n",
       "       [0.8064139 ],\n",
       "       [0.82308525],\n",
       "       [0.8388891 ],\n",
       "       [0.8530629 ],\n",
       "       [0.8646896 ],\n",
       "       [0.87186664],\n",
       "       [0.8744189 ],\n",
       "       [0.8741919 ],\n",
       "       [0.87173104],\n",
       "       [0.8661749 ],\n",
       "       [0.8573947 ],\n",
       "       [0.84535354],\n",
       "       [0.8298444 ],\n",
       "       [0.8114694 ],\n",
       "       [0.791922  ],\n",
       "       [0.7722106 ],\n",
       "       [0.75344414],\n",
       "       [0.7375849 ],\n",
       "       [0.72551   ],\n",
       "       [0.71643096],\n",
       "       [0.7078114 ],\n",
       "       [0.6991825 ],\n",
       "       [0.68977296],\n",
       "       [0.67889595],\n",
       "       [0.66708696],\n",
       "       [0.65451777],\n",
       "       [0.6417595 ],\n",
       "       [0.6295551 ],\n",
       "       [0.6194428 ],\n",
       "       [0.6116186 ],\n",
       "       [0.6055038 ],\n",
       "       [0.5999534 ],\n",
       "       [0.5944749 ],\n",
       "       [0.5888696 ],\n",
       "       [0.58305323],\n",
       "       [0.5775419 ],\n",
       "       [0.57263374],\n",
       "       [0.5689106 ],\n",
       "       [0.56586033],\n",
       "       [0.5627471 ],\n",
       "       [0.5589819 ],\n",
       "       [0.55458355],\n",
       "       [0.5492767 ],\n",
       "       [0.54300255],\n",
       "       [0.53604674],\n",
       "       [0.5290558 ],\n",
       "       [0.5228338 ],\n",
       "       [0.5181815 ],\n",
       "       [0.5165101 ],\n",
       "       [0.5182164 ],\n",
       "       [0.5235104 ],\n",
       "       [0.5320307 ],\n",
       "       [0.5428168 ],\n",
       "       [0.5538093 ],\n",
       "       [0.56226665],\n",
       "       [0.5665498 ],\n",
       "       [0.56655115],\n",
       "       [0.5631922 ],\n",
       "       [0.5573071 ],\n",
       "       [0.5497403 ],\n",
       "       [0.54144573],\n",
       "       [0.5333041 ],\n",
       "       [0.5260681 ],\n",
       "       [0.5210974 ],\n",
       "       [0.51967853],\n",
       "       [0.5212951 ],\n",
       "       [0.5246661 ],\n",
       "       [0.52792215],\n",
       "       [0.52998227],\n",
       "       [0.53098226],\n",
       "       [0.5316001 ],\n",
       "       [0.53343743],\n",
       "       [0.53802556],\n",
       "       [0.5451455 ],\n",
       "       [0.5531753 ],\n",
       "       [0.55977654],\n",
       "       [0.56367946],\n",
       "       [0.5648347 ],\n",
       "       [0.56336117],\n",
       "       [0.5601666 ],\n",
       "       [0.5562098 ],\n",
       "       [0.55233437],\n",
       "       [0.54832506],\n",
       "       [0.5438788 ],\n",
       "       [0.5386704 ],\n",
       "       [0.5331948 ],\n",
       "       [0.5281949 ],\n",
       "       [0.52469426],\n",
       "       [0.5235926 ],\n",
       "       [0.52544266],\n",
       "       [0.53085506],\n",
       "       [0.5398951 ],\n",
       "       [0.55163217],\n",
       "       [0.5645641 ],\n",
       "       [0.57694757],\n",
       "       [0.5885227 ],\n",
       "       [0.59893167],\n",
       "       [0.6087865 ],\n",
       "       [0.61855185],\n",
       "       [0.62811494],\n",
       "       [0.63628316],\n",
       "       [0.642319  ],\n",
       "       [0.6451354 ],\n",
       "       [0.6439023 ],\n",
       "       [0.6388954 ],\n",
       "       [0.63096666],\n",
       "       [0.6214733 ],\n",
       "       [0.6108805 ],\n",
       "       [0.5994991 ],\n",
       "       [0.5876684 ],\n",
       "       [0.57568634],\n",
       "       [0.563936  ],\n",
       "       [0.5526674 ],\n",
       "       [0.5420264 ],\n",
       "       [0.5322907 ],\n",
       "       [0.5236698 ],\n",
       "       [0.5165011 ],\n",
       "       [0.51109225],\n",
       "       [0.50692123],\n",
       "       [0.50340766],\n",
       "       [0.5000055 ],\n",
       "       [0.4964096 ],\n",
       "       [0.49250507],\n",
       "       [0.48822415],\n",
       "       [0.48359397],\n",
       "       [0.47858298],\n",
       "       [0.4732248 ],\n",
       "       [0.46760374],\n",
       "       [0.4616981 ],\n",
       "       [0.45558664],\n",
       "       [0.44940895],\n",
       "       [0.44322193],\n",
       "       [0.4371601 ],\n",
       "       [0.43147957],\n",
       "       [0.42648414],\n",
       "       [0.42235565],\n",
       "       [0.4190865 ],\n",
       "       [0.41653416],\n",
       "       [0.41448307],\n",
       "       [0.4127422 ],\n",
       "       [0.41121376],\n",
       "       [0.40977645],\n",
       "       [0.4084326 ],\n",
       "       [0.40726012],\n",
       "       [0.4063087 ],\n",
       "       [0.4056179 ],\n",
       "       [0.40524983],\n",
       "       [0.40534016],\n",
       "       [0.40613824],\n",
       "       [0.407256  ],\n",
       "       [0.40815616],\n",
       "       [0.4085772 ],\n",
       "       [0.40840393],\n",
       "       [0.4069675 ],\n",
       "       [0.40353173],\n",
       "       [0.39751422],\n",
       "       [0.3888111 ],\n",
       "       [0.37822455],\n",
       "       [0.36687878],\n",
       "       [0.35569805],\n",
       "       [0.34577754],\n",
       "       [0.33759445],\n",
       "       [0.33137578],\n",
       "       [0.3272179 ],\n",
       "       [0.32502112],\n",
       "       [0.3247407 ],\n",
       "       [0.32649466],\n",
       "       [0.33013335],\n",
       "       [0.33508995],\n",
       "       [0.34088296],\n",
       "       [0.34723306],\n",
       "       [0.3535944 ],\n",
       "       [0.359474  ],\n",
       "       [0.36473975],\n",
       "       [0.3695017 ],\n",
       "       [0.3739262 ],\n",
       "       [0.37803048],\n",
       "       [0.38170016],\n",
       "       [0.38475764],\n",
       "       [0.38684648],\n",
       "       [0.38749054],\n",
       "       [0.38645303],\n",
       "       [0.3839069 ],\n",
       "       [0.38013268],\n",
       "       [0.37530333],\n",
       "       [0.36953086],\n",
       "       [0.36286515]], dtype=float32)"
      ]
     },
     "execution_count": 142,
     "metadata": {},
     "output_type": "execute_result"
    }
   ],
   "source": [
    "y_predict"
   ]
  },
  {
   "cell_type": "code",
   "execution_count": 143,
   "id": "e3f1baf3-4f13-41ac-8c6e-f421ee7320b4",
   "metadata": {},
   "outputs": [],
   "source": [
    "scale = 1/scaler.scale_"
   ]
  },
  {
   "cell_type": "code",
   "execution_count": 144,
   "id": "972824bb-1b0f-484b-893a-08c8fdc5b8a8",
   "metadata": {},
   "outputs": [],
   "source": [
    "y_predict= y_predict*scale"
   ]
  },
  {
   "cell_type": "code",
   "execution_count": 145,
   "id": "be796ba3-71dc-4f4a-ab45-2586aa9e505c",
   "metadata": {},
   "outputs": [],
   "source": [
    "y = y*scale"
   ]
  },
  {
   "cell_type": "code",
   "execution_count": 146,
   "id": "ebc2de65-a175-4756-8ca3-84092029c52a",
   "metadata": {},
   "outputs": [],
   "source": [
    "y = np.squeeze(y)"
   ]
  },
  {
   "cell_type": "code",
   "execution_count": 147,
   "id": "a1f6ec0e-840b-4ac3-89eb-3126a928031d",
   "metadata": {},
   "outputs": [
    {
     "data": {
      "image/png": "[encoded data removed]",
      "text/plain": [
       "<Figure size 1000x800 with 1 Axes>"
      ]
     },
     "metadata": {},
     "output_type": "display_data"
    }
   ],
   "source": [
    "plt.figure(figsize = (10,8))\n",
    "plt.plot(y_predict, 'r' , label = 'Predicted Price')\n",
    "plt.plot(y, 'g' , label = 'Original Price')\n",
    "plt.xlabel('Time')\n",
    "plt.ylabel('Price')\n",
    "plt.legend()\n",
    "plt.show()"
   ]
  },
  {
   "cell_type": "code",
   "execution_count": 189,
   "id": "39e5cc2a-ac36-4698-ad20-1bd3fa7f596d",
   "metadata": {},
   "outputs": [],
   "source": [
    "model.save('Stock Predictions Model.keras')"
   ]
  },
  {
   "cell_type": "code",
   "execution_count": null,
   "id": "1238f653-8923-49ca-b19a-5164e2dea2fa",
   "metadata": {},
   "outputs": [],
   "source": []
  }
 ],
 "metadata": {
  "kernelspec": {
   "display_name": "Python 3 (ipykernel)",
   "language": "python",
   "name": "python3"
  },
  "language_info": {
   "codemirror_mode": {
    "name": "ipython",
    "version": 3
   },
   "file_extension": ".py",
   "mimetype": "text/x-python",
   "name": "python",
   "nbconvert_exporter": "python",
   "pygments_lexer": "ipython3",
   "version": "3.12.4"
  }
 },
 "nbformat": 4,
 "nbformat_minor": 5
}
